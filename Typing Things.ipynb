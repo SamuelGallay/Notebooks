{
 "cells": [
  {
   "cell_type": "code",
   "execution_count": 1,
   "id": "9d858d1a",
   "metadata": {},
   "outputs": [
    {
     "data": {
      "text/plain": [
       "val id : 'a -> 'a = <fun>\n"
      ]
     },
     "execution_count": 1,
     "metadata": {},
     "output_type": "execute_result"
    }
   ],
   "source": [
    "let id = fun x -> x"
   ]
  },
  {
   "cell_type": "code",
   "execution_count": 2,
   "id": "869527eb",
   "metadata": {},
   "outputs": [
    {
     "data": {
      "text/plain": [
       "val id_bis : '_weak1 -> '_weak1 = <fun>\n"
      ]
     },
     "execution_count": 2,
     "metadata": {},
     "output_type": "execute_result"
    }
   ],
   "source": [
    "let id_bis = id id"
   ]
  },
  {
   "cell_type": "code",
   "execution_count": 3,
   "id": "b8699723",
   "metadata": {},
   "outputs": [
    {
     "ename": "error",
     "evalue": "compile_error",
     "output_type": "error",
     "traceback": [
      "File \"[3]\", line 1, characters 25-26:\n1 | let id_ter = (fun f -> f f) id\n                             ^\nError: This expression has type 'a -> 'b\n       but an expression was expected of type 'a\n       The type variable 'a occurs inside 'a -> 'b\n"
     ]
    }
   ],
   "source": [
    "let id_ter = (fun f -> f f) id"
   ]
  },
  {
   "cell_type": "code",
   "execution_count": 5,
   "id": "20f5b432",
   "metadata": {},
   "outputs": [
    {
     "data": {
      "text/plain": [
       "- : int = 1\n"
      ]
     },
     "execution_count": 5,
     "metadata": {},
     "output_type": "execute_result"
    }
   ],
   "source": [
    "id_bis 1"
   ]
  },
  {
   "cell_type": "code",
   "execution_count": null,
   "id": "f7b99578",
   "metadata": {},
   "outputs": [],
   "source": []
  }
 ],
 "metadata": {
  "kernelspec": {
   "display_name": "OCaml default",
   "language": "OCaml",
   "name": "ocaml-jupyter"
  },
  "language_info": {
   "codemirror_mode": "text/x-ocaml",
   "file_extension": ".ml",
   "mimetype": "text/x-ocaml",
   "name": "OCaml",
   "nbconverter_exporter": null,
   "pygments_lexer": "OCaml",
   "version": "4.12.1"
  }
 },
 "nbformat": 4,
 "nbformat_minor": 5
}
