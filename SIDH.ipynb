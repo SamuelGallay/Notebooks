{
 "cells": [
  {
   "cell_type": "markdown",
   "id": "5c1b01ce",
   "metadata": {},
   "source": [
    "# Supersingular Isogeny Diffie-Hellman"
   ]
  },
  {
   "cell_type": "markdown",
   "id": "e0ce9530",
   "metadata": {},
   "source": [
    "## Recherche d'un $p$ convenable"
   ]
  },
  {
   "cell_type": "code",
   "execution_count": 29,
   "id": "38ce5d0d",
   "metadata": {},
   "outputs": [],
   "source": [
    "lA = 2\n",
    "eA = 100\n",
    "\n",
    "lB = 3\n",
    "eB = 100\n",
    "\n",
    "f = 1\n",
    "p = lA ^ eA * lB ^ eB * f - 1\n",
    "while f % lA == 0 or f % lB == 0 or p not in Primes():\n",
    "    f += 1 \n",
    "    p = lA ^ eA * lB ^ eB * f - 1"
   ]
  },
  {
   "cell_type": "code",
   "execution_count": 30,
   "id": "9c4890a5",
   "metadata": {
    "scrolled": true
   },
   "outputs": [
    {
     "name": "stdout",
     "output_type": "stream",
     "text": [
      "p :  114330759112512408566920796752660118594000149332767102520037594114661999758540799\n",
      "Sécurité :  531.894922367896\n",
      "Debug : f = 175\n"
     ]
    }
   ],
   "source": [
    "q = p^2\n",
    "Fq = GF(q)\n",
    "\n",
    "print(\"p : \", p)\n",
    "print(\"Sécurité : \", numerical_approx(2*log(p)/log(2)))\n",
    "print(\"Debug : f =\", f)"
   ]
  },
  {
   "cell_type": "markdown",
   "id": "27ee5cd6",
   "metadata": {},
   "source": [
    "## Recherche d'une courbe elliptique supersingulière de bonne cardinalité"
   ]
  },
  {
   "cell_type": "code",
   "execution_count": 31,
   "id": "02ab4bc2",
   "metadata": {},
   "outputs": [
    {
     "name": "stdout",
     "output_type": "stream",
     "text": [
      "Elliptic Curve defined by y^2 = x^3 + 1 over Finite Field in z2 of size 114330759112512408566920796752660118594000149332767102520037594114661999758540799^2\n",
      "Supersingulière : True\n",
      "Bonne cardinalité : True\n"
     ]
    }
   ],
   "source": [
    "E = EllipticCurve([Fq(0), Fq(1)])\n",
    "print(E)\n",
    "print(\"Supersingulière :\", E.is_supersingular())\n",
    "desiredCardinality = (lA ^ eA * lB ^ eB * f) ^ 2\n",
    "print(\"Bonne cardinalité :\", E.cardinality() == desiredCardinality)"
   ]
  },
  {
   "cell_type": "markdown",
   "id": "b03ba012",
   "metadata": {},
   "source": [
    "## Recherche d'une base de la torsion"
   ]
  },
  {
   "cell_type": "code",
   "execution_count": 32,
   "id": "16b73461",
   "metadata": {},
   "outputs": [],
   "source": [
    "is_a_base = False\n",
    "while not is_a_base:\n",
    "    PA = 0\n",
    "    while PA.order() != lA^eA: PA = (lB^eB * f) ^2 * E.random_point()\n",
    "    QA = 0\n",
    "    while QA.order() != lA^eA: QA = (lB^eB * f) ^2 * E.random_point()\n",
    "    is_a_base = PA.weil_pairing(QA, lA^eA) ^ (lA^(eA-1)) != 1\n",
    "\n",
    "is_a_base = False\n",
    "while not is_a_base:\n",
    "    PB = 0\n",
    "    while PB.order() != lB^eB: PB = (lA^eA * f) ^2 * E.random_point()\n",
    "    QB = 0\n",
    "    while QB.order() != lB^eB: QB = (lA^eA * f) ^2 * E.random_point()\n",
    "    is_a_base = PB.weil_pairing(QB, lB^eB) ^ (lB^(eB-1)) != 1"
   ]
  },
  {
   "cell_type": "markdown",
   "id": "45b35615",
   "metadata": {},
   "source": [
    "## Isogénies de degré friable"
   ]
  },
  {
   "cell_type": "code",
   "execution_count": 33,
   "id": "f7267367",
   "metadata": {},
   "outputs": [],
   "source": [
    "def chain_isogenies(E, R, l, e, points):\n",
    "    phi = E.identity_morphism()\n",
    "    Ei = E\n",
    "    Ri = R\n",
    "    for i in range(e):\n",
    "        phi_i = Ei.isogeny(l^(e-i-1) * Ri)\n",
    "        Ri = phi_i(Ri)\n",
    "        Ei = phi_i.codomain()\n",
    "        points = [phi_i(P) for P in points]\n",
    "    return (Ei, points)"
   ]
  },
  {
   "cell_type": "markdown",
   "id": "492b641c",
   "metadata": {},
   "source": [
    "## Alice"
   ]
  },
  {
   "cell_type": "code",
   "execution_count": 34,
   "id": "5ff75b9f",
   "metadata": {},
   "outputs": [],
   "source": [
    "def random_secret(l, e):\n",
    "    badCouple = True\n",
    "    while badCouple:\n",
    "        m, n = randrange(l^e), randrange(l^e)\n",
    "        badCouple = m % l == 0 and n % l == 0\n",
    "    return (m, n)"
   ]
  },
  {
   "cell_type": "code",
   "execution_count": 35,
   "id": "4986d2ec",
   "metadata": {},
   "outputs": [
    {
     "name": "stdout",
     "output_type": "stream",
     "text": [
      "Secret : 92713651467336170752671529405 930817743216827691882889413472\n",
      "Publique : Elliptic Curve defined by y^2 = x^3 + (83551932065602948400424806201074340153098284438722542745689204430001980335364440*z2+64716305255802571726319403883796738277828114278442485300632929871102604084354977)*x + (16502019526401555534022593062060609280440493985721238259797290822882577527669549*z2+10901390390933334691237935986505881665071531054262283243654664061004044120939816) over Finite Field in z2 of size 114330759112512408566920796752660118594000149332767102520037594114661999758540799^2\n",
      "Publique : (43968294715269403093398162348605149593287375965349801156546356709835097555945672*z2 + 79584676548827075208076365329934020550229863336937082068593281818067399494208606 : 83847247123963459242030428785469432703116044865694812518839180647983752542035377*z2 + 67685060528725147715138918047916109396440008615103693614224315101999219951007212 : 1) (87957719909810214394206349136057829585375790734252835976843021962820589275222994*z2 + 93295757903627635701984124354134049938861107606147048588605023132360811027052171 : 2728433850029103065083892206902773964510294926956140807990518061927755390779471*z2 + 99712550654400335538160340259742004358726291078433110420987708453449078314163351 : 1)\n"
     ]
    }
   ],
   "source": [
    "mA, nA = random_secret(lA, eA)\n",
    "\n",
    "(EA, [phiA_PB, phiA_QB]) = chain_isogenies(E, mA * PA + nA * QA, lA, eA, [PB, QB])\n",
    "\n",
    "print(\"Secret :\", mA, nA)\n",
    "print(\"Publique :\", EA)\n",
    "print(\"Publique :\", phiA_PB, phiA_QB)"
   ]
  },
  {
   "cell_type": "markdown",
   "id": "d6749ac9",
   "metadata": {},
   "source": [
    "## Bob"
   ]
  },
  {
   "cell_type": "code",
   "execution_count": 36,
   "id": "a5ff669a",
   "metadata": {
    "scrolled": false
   },
   "outputs": [
    {
     "name": "stdout",
     "output_type": "stream",
     "text": [
      "Secret : 358836851414785950867171116514324627376811280726 246746108481582123772028033833157818051923632492\n",
      "Publique : Elliptic Curve defined by y^2 = x^3 + (26383646855277867872787058375031428649952267907927455766920913103918683677111748*z2+101257596811066808137927095041937034902522273615638951017755965372325674492513687)*x + (752495133336420119278872312176581004805886250808402047320869113326860019652421*z2+58586935735514478961616114730666706083701188271139895427461498006143729843891310) over Finite Field in z2 of size 114330759112512408566920796752660118594000149332767102520037594114661999758540799^2\n",
      "Publique : (49007719929845248178076688781838088747485818224051842214402839484406188801897839*z2 + 8908576386373287101732190378606271610398255896930154400817826802996600365687910 : 20997843936006500924452434645771931516718926748297256998910222095504736387378527*z2 + 45951041588653654178874388665524493416971213761388880583481304496158895486156295 : 1) (105190275929644185272019081630540215003766935791623546291542380038843153896442388*z2 + 22871392882300325764482137199279642765839970237885756260344637671672874818881047 : 106079548597057122814139337531326881445530782818259154860696838142204881664352857*z2 + 33805166840313099274948889352055968731980444669980605077094749938377874043056508 : 1)\n"
     ]
    }
   ],
   "source": [
    "mB, nB = random_secret(lB, eB)\n",
    "\n",
    "(EB, [phiB_PA, phiB_QA]) = chain_isogenies(E, mB * PB + nB * QB, lB, eB, [PA, QA])\n",
    "\n",
    "print(\"Secret :\", mB, nB)\n",
    "print(\"Publique :\", EB)\n",
    "print(\"Publique :\", phiB_PA, phiB_QA)"
   ]
  },
  {
   "cell_type": "markdown",
   "id": "e9e4a608",
   "metadata": {},
   "source": [
    "## Alice"
   ]
  },
  {
   "cell_type": "code",
   "execution_count": 37,
   "id": "1154be99",
   "metadata": {
    "scrolled": true
   },
   "outputs": [
    {
     "data": {
      "text/plain": [
       "102852686953988911347579561079604319569442450438651266947534680769953480140220081*z2 + 113220072002502050206209673736450004520070795545986011568658665430942398665549037"
      ]
     },
     "execution_count": 37,
     "metadata": {},
     "output_type": "execute_result"
    }
   ],
   "source": [
    "chain_isogenies(EB, mA * phiB_PA + nA * phiB_QA, lA, eA, [])[0].j_invariant()"
   ]
  },
  {
   "cell_type": "markdown",
   "id": "b13ebe37",
   "metadata": {},
   "source": [
    "## Bob"
   ]
  },
  {
   "cell_type": "code",
   "execution_count": 38,
   "id": "ae97ab30",
   "metadata": {
    "scrolled": false
   },
   "outputs": [
    {
     "data": {
      "text/plain": [
       "102852686953988911347579561079604319569442450438651266947534680769953480140220081*z2 + 113220072002502050206209673736450004520070795545986011568658665430942398665549037"
      ]
     },
     "execution_count": 38,
     "metadata": {},
     "output_type": "execute_result"
    }
   ],
   "source": [
    "chain_isogenies(EA, mB * phiA_PB + nB * phiA_QB, lB, eB, [])[0].j_invariant()"
   ]
  },
  {
   "cell_type": "code",
   "execution_count": null,
   "id": "59713bb4",
   "metadata": {},
   "outputs": [],
   "source": []
  }
 ],
 "metadata": {
  "kernelspec": {
   "display_name": "SageMath 9.6",
   "language": "sage",
   "name": "sagemath"
  },
  "language_info": {
   "codemirror_mode": {
    "name": "ipython",
    "version": 3
   },
   "file_extension": ".py",
   "mimetype": "text/x-python",
   "name": "python",
   "nbconvert_exporter": "python",
   "pygments_lexer": "ipython3",
   "version": "3.10.4"
  }
 },
 "nbformat": 4,
 "nbformat_minor": 5
}
