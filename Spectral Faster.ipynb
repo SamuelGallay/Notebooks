{
 "cells": [
  {
   "cell_type": "code",
   "execution_count": 3,
   "id": "b0d74a2d",
   "metadata": {},
   "outputs": [],
   "source": [
    "import numpy as np\n",
    "from numpy.fft import *\n",
    "import matplotlib.pyplot as plt\n",
    "from matplotlib import cm\n",
    "from matplotlib import colors\n",
    "from PIL import Image\n",
    "import os\n",
    "from datetime import datetime\n",
    "from IPython.display import Video"
   ]
  },
  {
   "cell_type": "code",
   "execution_count": null,
   "id": "73b2fc67",
   "metadata": {},
   "outputs": [],
   "source": [
    "# Meaningful parameters\n",
    "n = 512\n",
    "L = 2*np.pi\n",
    "nu = 1e-5\n",
    "dt = 1\n",
    "print(\"Mesh ratio :\", nu*dt*n*n/L/L)\n",
    "steps = 500\n",
    "jump = 5\n",
    "\n",
    "# Initialize te grid\n",
    "def lico(x, y):\n",
    "    return x.reshape(len(x), 1) @ y.reshape(1, len(y))\n",
    "x = L/n*np.arange(n)\n",
    "X = lico(x, np.ones(n))\n",
    "Y = lico(np.ones(n), x)\n",
    "\n",
    "# Initialisation of vorticity\n",
    "w = np.random.rand(n, n)-0.5\n",
    "#plt.pcolor(X, Y, w)\n",
    "#plt.show()\n",
    "\n",
    "# Precompute everything that is possible !\n",
    "k = np.arange(n)\n",
    "k[n//2+1:] -= n\n",
    "k = (2*np.pi/L*k)**2\n",
    "K = lico(k, np.ones(n//2+1)) + lico(np.ones(n), k[:n//2+1])\n",
    "LAP = -K\n",
    "K[0, 0] = 10e20\n",
    "INV_LAP = -1 / K\n",
    "DX = np.zeros(n, dtype=complex)\n",
    "DX[:n//2] = np.arange(n//2)\n",
    "DX[n//2+1:] = np.arange(1-n//2, 0)\n",
    "DX = 2j*np.pi/L * lico(DX, np.ones(n//2+1))\n",
    "DY = np.arange(n//2+1)\n",
    "DY[n//2] = 0\n",
    "DY = 2j*np.pi/L * lico(np.ones(n), DY)\n",
    "\n",
    "## Colors \n",
    "cmap = colors.LinearSegmentedColormap.from_list(\"test\", [[0.6, 0, 0], [1, 0, 0],[1, 1, 0], [0, 1, 1], [0, 0, 1], [0, 0, 6]])\n",
    "cmap"
   ]
  },
  {
   "cell_type": "code",
   "execution_count": null,
   "id": "b79e4d60",
   "metadata": {},
   "outputs": [],
   "source": [
    "os.system(\"rm -f Images/*.tiff\")"
   ]
  },
  {
   "cell_type": "code",
   "execution_count": null,
   "id": "0bb789de",
   "metadata": {},
   "outputs": [],
   "source": [
    "%%time \n",
    "for i in range(steps):\n",
    "    W = rfft2(w)\n",
    "    PSI = -INV_LAP * W\n",
    "    u = irfft2(DY * PSI)\n",
    "    v = irfft2(-DX * PSI)\n",
    "    k1 = nu*irfft2(LAP*W) - u*irfft2(DX*W) - v*irfft2(DY*W)\n",
    "     \n",
    "    W = rfft2(w + dt/2 * k1)\n",
    "    PSI = -INV_LAP * W\n",
    "    u = irfft2(DY * PSI)\n",
    "    v = irfft2(-DX * PSI)\n",
    "    k2 = nu*irfft2(LAP*W) - u*irfft2(DX*W) - v*irfft2(DY*W)\n",
    "    \n",
    "    W = rfft2(w + dt/2 * k2)\n",
    "    PSI = -INV_LAP * W\n",
    "    u = irfft2(DY * PSI)\n",
    "    v = irfft2(-DX * PSI)\n",
    "    k3 = nu*irfft2(LAP*W) - u*irfft2(DX*W) - v*irfft2(DY*W)\n",
    "    \n",
    "    W = rfft2(w + dt * k3)\n",
    "    PSI = -INV_LAP * W\n",
    "    u = irfft2(DY * PSI)\n",
    "    v = irfft2(-DX * PSI)\n",
    "    k4 = nu*irfft2(LAP*W) - u*irfft2(DX*W) - v*irfft2(DY*W)\n",
    "    \n",
    "    w += dt/6 * (k1 + 2*k2 + 2*k3 + k4)\n",
    "    \n",
    "    if i % jump == 0:\n",
    "        min_w = min(w.flat)\n",
    "        max_w = max(w.flat)\n",
    "        norm = (w - min_w)/ (max_w - min_w)\n",
    "        im = Image.fromarray(cmap(norm, bytes=True))\n",
    "        im.save(\"Images/\" + str(i//jump).zfill(5) + \".tiff\")"
   ]
  },
  {
   "cell_type": "code",
   "execution_count": null,
   "id": "264b72ce",
   "metadata": {},
   "outputs": [],
   "source": [
    "dt_string = datetime.now().strftime(\"%d-%m-%Y_%H:%M:%S\")\n",
    "os.system(\"ffmpeg -hide_banner -loglevel error -framerate 24 -i Images/%05d.tiff -pix_fmt yuv420p -c:v libx264 -preset slow -crf 18 Videos/\" + dt_string + \".mp4\")"
   ]
  },
  {
   "cell_type": "markdown",
   "id": "e45500f7",
   "metadata": {},
   "source": [
    "# Good parameters :\n",
    "\n",
    "$n=512, L=2\\pi, \\nu=10^{-5}, dt=0,2$"
   ]
  },
  {
   "cell_type": "code",
   "execution_count": 4,
   "id": "40738471",
   "metadata": {},
   "outputs": [],
   "source": [
    "import pyfftw\n",
    "import multiprocessing\n",
    "\n",
    "pyfftw.config.NUM_THREADS = 6\n",
    "n = 4096\n",
    "a = pyfftw.empty_aligned((n, n), dtype='float')\n",
    "b = pyfftw.empty_aligned((n, n//2+1), dtype='complex')\n",
    "\n",
    "a = np.random.rand(n, n)\n",
    "\n",
    "fft_object_c = pyfftw.FFTW(a, b, axes=(0,1))"
   ]
  },
  {
   "cell_type": "code",
   "execution_count": null,
   "id": "1eb22070",
   "metadata": {},
   "outputs": [],
   "source": [
    "%%timeit\n",
    "fft_object_c()"
   ]
  },
  {
   "cell_type": "code",
   "execution_count": null,
   "id": "d52e231f",
   "metadata": {},
   "outputs": [],
   "source": [
    "%%timeit\n",
    "c = fft(a)"
   ]
  }
 ],
 "metadata": {
  "kernelspec": {
   "display_name": "Python 3 (ipykernel)",
   "language": "python",
   "name": "python3"
  },
  "language_info": {
   "codemirror_mode": {
    "name": "ipython",
    "version": 3
   },
   "file_extension": ".py",
   "mimetype": "text/x-python",
   "name": "python",
   "nbconvert_exporter": "python",
   "pygments_lexer": "ipython3",
   "version": "3.10.1"
  }
 },
 "nbformat": 4,
 "nbformat_minor": 5
}
