{
 "cells": [
  {
   "cell_type": "markdown",
   "id": "5db00c69",
   "metadata": {},
   "source": [
    "# Discrete Fourier Transform\n",
    "\n",
    "$$ D_k(z) = \\sum_{j=0}^{n-1}z_j e^{-\\frac{2i \\pi j k}{n}} $$\n",
    "\n",
    "$$ D_k^{-1}(z) = \\frac{1}{n}\\sum_{j=0}^{n-1}z_j e^{\\frac{2i \\pi j k}{n}} $$\n",
    "\n",
    "https://www.davidhbailey.com/dhbpapers/fracfft.pdf\n",
    "\n",
    "https://www.davidhbailey.com/dhbpapers/fourint.pdf"
   ]
  },
  {
   "cell_type": "code",
   "execution_count": 1,
   "id": "81098e65",
   "metadata": {},
   "outputs": [],
   "source": [
    "import numpy as np\n",
    "\n",
    "def dft(Z):\n",
    "    n = len(Z)\n",
    "    L = np.zeros_like(Z, dtype=complex)\n",
    "    for k in range(n):\n",
    "        for j in range(n):\n",
    "            L[k] += Z[j]*np.exp(-2*1j*np.pi*j*k/n)\n",
    "    return L\n",
    "\n",
    "def idft(Z):\n",
    "    n = len(Z)\n",
    "    L = np.zeros_like(Z, dtype=complex)\n",
    "    for k in range(n):\n",
    "        for j in range(n):\n",
    "            L[k] += (1/n) * Z[j] * np.exp(2*1j*np.pi*j*k/n)\n",
    "    return L"
   ]
  },
  {
   "cell_type": "code",
   "execution_count": 2,
   "id": "8e28112d",
   "metadata": {
    "scrolled": true
   },
   "outputs": [
    {
     "name": "stdout",
     "output_type": "stream",
     "text": [
      "Error :  6.069270725473981e-14\n"
     ]
    },
    {
     "data": {
      "image/png": "[encoded data removed]",
      "text/plain": [
       "<Figure size 432x288 with 1 Axes>"
      ]
     },
     "metadata": {
      "needs_background": "light"
     },
     "output_type": "display_data"
    }
   ],
   "source": [
    "import matplotlib.pyplot as plt\n",
    "\n",
    "def error(y, x):\n",
    "    e = max(abs(x - y))/max(abs(x))\n",
    "    print(\"Error : \", e)\n",
    "\n",
    "x = np.linspace(-np.pi, np.pi, 256)\n",
    "y = np.exp(-x*x)\n",
    "z_dft = dft(y)\n",
    "y_dft = idft(z_dft)\n",
    "plt.plot(x, y)\n",
    "plt.plot(x, y_dft.real)\n",
    "\n",
    "error(y_dft, y)"
   ]
  },
  {
   "cell_type": "markdown",
   "id": "46dcee22",
   "metadata": {},
   "source": [
    "# Fast Fourier Transform"
   ]
  },
  {
   "cell_type": "code",
   "execution_count": 3,
   "id": "ba56da3f",
   "metadata": {},
   "outputs": [],
   "source": [
    "def fft(Z):\n",
    "    n = len(Z)\n",
    "    if n <= 1:\n",
    "        return Z.copy()\n",
    "    else:\n",
    "        assert(n % 2 == 0)\n",
    "        even = fft(Z[::2])\n",
    "        odd = fft(Z[1::2])\n",
    "        result = np.zeros_like(Z, dtype=complex)\n",
    "        factors = np.exp(-2*1j*np.pi*np.arange(n//2)/n)\n",
    "        result[:n//2] = even + factors * odd\n",
    "        result[n//2:] = even - factors * odd\n",
    "        return result\n",
    "    \n",
    "def ifft(Z):\n",
    "    n = len(Z)\n",
    "    if n <= 1:\n",
    "        return Z.copy()\n",
    "    else:\n",
    "        assert(n % 2 == 0)\n",
    "        even = ifft(Z[::2])\n",
    "        odd = ifft(Z[1::2])\n",
    "        result = np.zeros_like(Z, dtype=complex)\n",
    "        factors = np.exp(2*1j*np.pi*np.arange(n//2)/n)\n",
    "        result[:n//2] = even + factors * odd\n",
    "        result[n//2:] = even - factors * odd\n",
    "        return (1/2) * result"
   ]
  },
  {
   "cell_type": "code",
   "execution_count": 4,
   "id": "34891e3d",
   "metadata": {},
   "outputs": [
    {
     "name": "stdout",
     "output_type": "stream",
     "text": [
      "Error :  2.5702159667530204e-14\n"
     ]
    }
   ],
   "source": [
    "z_fft = fft(y)\n",
    "error(z_fft, z_dft)"
   ]
  },
  {
   "cell_type": "code",
   "execution_count": 5,
   "id": "be84b093",
   "metadata": {},
   "outputs": [
    {
     "name": "stdout",
     "output_type": "stream",
     "text": [
      "Error :  3.4358105799113603e-16\n"
     ]
    },
    {
     "data": {
      "image/png": "[encoded data removed]",
      "text/plain": [
       "<Figure size 432x288 with 1 Axes>"
      ]
     },
     "metadata": {
      "needs_background": "light"
     },
     "output_type": "display_data"
    }
   ],
   "source": [
    "y_fft = ifft(z_fft)\n",
    "plt.plot(x, y_fft.real)\n",
    "error(y_fft, y)"
   ]
  },
  {
   "cell_type": "markdown",
   "id": "cc62e967",
   "metadata": {},
   "source": [
    "# Circular Discrete Convolution\n",
    "\n",
    "Les séquences sont de longueur $n$ et les indices sont vu dans $Z/nZ$.\n",
    "\n",
    "$$ (x*y)(k) = \\sum_{j=0}^{n-1}x_j y_{k-j}  $$\n"
   ]
  },
  {
   "cell_type": "code",
   "execution_count": 6,
   "id": "6b697d90",
   "metadata": {},
   "outputs": [],
   "source": [
    "def conv(x, y):\n",
    "    assert(len(x) == len(y))\n",
    "    n = len(x)\n",
    "    L = np.zeros_like(x)\n",
    "    for k in range(n):\n",
    "        for j in range(n):\n",
    "            L[k] += x[j] * y[(k-j)%n]\n",
    "    return L"
   ]
  },
  {
   "cell_type": "code",
   "execution_count": 7,
   "id": "19a3cc90",
   "metadata": {},
   "outputs": [],
   "source": [
    "def conv_fft(x, y):\n",
    "    assert(len(x) == len(y))\n",
    "    return ifft(fft(x) * fft(y))"
   ]
  },
  {
   "cell_type": "code",
   "execution_count": 8,
   "id": "8068bde8",
   "metadata": {
    "scrolled": false
   },
   "outputs": [
    {
     "name": "stdout",
     "output_type": "stream",
     "text": [
      "Error :  1.0191348089857943e-15\n"
     ]
    },
    {
     "data": {
      "image/png": "[encoded data removed]",
      "text/plain": [
       "<Figure size 432x288 with 1 Axes>"
      ]
     },
     "metadata": {
      "needs_background": "light"
     },
     "output_type": "display_data"
    }
   ],
   "source": [
    "c = conv(y, y)\n",
    "c_fft = conv_fft(y, y)\n",
    "plt.plot(x, c)\n",
    "plt.plot(x, c_fft.real)\n",
    "error(c_fft, c)"
   ]
  },
  {
   "cell_type": "markdown",
   "id": "a76a0746",
   "metadata": {},
   "source": [
    "# Fractional Fourier Transform\n",
    "\n",
    "$$ G_k(x, \\alpha)= \\sum_{j=0}^{n-1}x_je^{-2i\\pi jk\\alpha} = e^{-i\\pi k^2 \\alpha} \\sum_{j=0}^{n-1}y_jz_{k-j}$$\n",
    "\n",
    "avec\n",
    "\n",
    "$$ y_j = x_je^{-i\\pi j^2 \\alpha} \\text{  et  } z_j = e^{i\\pi j^2 \\alpha} $$ \n",
    "\n",
    "Attention, $z_{k-j} \\neq z_{n+k-j}$ : on ne peut pas utiliser directement une convolution discrète circulaire."
   ]
  },
  {
   "cell_type": "code",
   "execution_count": 9,
   "id": "af1238af",
   "metadata": {},
   "outputs": [],
   "source": [
    "def frac_dft(X, a):\n",
    "    n = len(X)\n",
    "    L = np.zeros_like(X, dtype=complex)\n",
    "    for k in range(n):\n",
    "        for j in range(n):\n",
    "            L[k] += X[j]*np.exp(-2*1j*np.pi*j*k*a)\n",
    "    return L\n",
    "\n",
    "def frac_fft(X, a):\n",
    "    n = len(X)\n",
    "    j = np.arange(n)\n",
    "    y = X * np.exp(-1j*np.pi*j*j*a)\n",
    "    z = np.exp(1j*np.pi*j*j*a)\n",
    "    \n",
    "    Y = np.zeros(2*n, dtype=complex)\n",
    "    Z = np.zeros(2*n, dtype=complex)\n",
    "    Y[:n] = y\n",
    "    Z[:n] = z\n",
    "    Z[n+1:] = z[:0:-1]\n",
    "    return np.exp(-1j*np.pi*j*j*a) * conv_fft(Y, Z)[:n]"
   ]
  },
  {
   "cell_type": "code",
   "execution_count": 10,
   "id": "ad044a14",
   "metadata": {},
   "outputs": [
    {
     "name": "stdout",
     "output_type": "stream",
     "text": [
      "Error :  0.0\n",
      "Error :  6.069270725473981e-14\n",
      "Error :  8.282353362166894e-12\n"
     ]
    }
   ],
   "source": [
    "z_frac_dft = frac_dft(y, 1/len(x))\n",
    "y_frac_dft = frac_dft(z_frac_dft, -1/len(x))/len(x)\n",
    "error(z_frac_dft, z_dft)\n",
    "error(y_frac_dft, y)\n",
    "error(frac_fft(y, np.sqrt(5)), frac_dft(y, np.sqrt(5)))"
   ]
  },
  {
   "cell_type": "markdown",
   "id": "c38ed9de",
   "metadata": {},
   "source": [
    "# Continuous Fourier Transform\n",
    "\n",
    "$f$ est nulle hors de $[-\\frac{a}{2}, \\frac{a}{2}]$\n",
    "\n",
    "$$ F(x) = \\int_{-\\infty}^{+\\infty} f(t)e^{-itx}dt = \\int_{-\\frac{a}{2}}^{+\\frac{a}{2}} f(t)e^{-itx}dt $$\n",
    "\n",
    "$f$ est connue en $n$ points répartis uniformément sur $[-\\frac{a}{2}, \\frac{a}{2}]$, i.e $t_k=-\\frac{a}{2} + k \\frac{a}{n}$ pour $0 \\le k < n$.\n",
    "\n",
    "On souhaite évaluer $F$ en $n$ points répartis uniformément sur $[-\\frac{b}{2}, \\frac{b}{2}]$, i.e $x_k=-\\frac{b}{2} + k \\frac{b}{n}$ pour $0 \\le k < n$.\n",
    "\n",
    "$$ F(x_k) = \\int_{-\\frac{a}{2}}^{+\\frac{a}{2}} f(t)e^{-itx_k}dt \n",
    "          = \\frac{a}{n}\\sum_{j=0}^{n-1}f(t_j)e^{-it_jx_k}\n",
    "          = \\frac{a}{n}\\sum_{j=0}^{n-1}f(t_j)e^{-i(-\\frac{a}{2} + j \\frac{a}{n})x_k} $$\n",
    "$$        = e^{i\\frac{a}{2}x_k}\\frac{a}{n}\\sum_{j=0}^{n-1}f(t_j)e^{-i j \\frac{a}{n}x_k}\n",
    "          = e^{i\\frac{a}{2}x_k}\\frac{a}{n}\\sum_{j=0}^{n-1}f(t_j)e^{-i j \\frac{a}{n}(-\\frac{b}{2} + k\\frac{b}{n})}\n",
    "          = e^{i\\frac{a}{2}x_k}\\frac{a}{n}\\sum_{j=0}^{n-1}f(t_j)e^{i j \\frac{a}{n}\\frac{b}{2}}e^{-i j \\frac{a}{n} k\\frac{b}{n}}\n",
    "$$ \n",
    "\n",
    "On reconnait une transformée fractionnaire avec $-i j \\frac{a}{n} k\\frac{b}{n} = -2i\\pi jk\\alpha$ soit \n",
    "$\\frac{a}{n} \\frac{b}{n} = 2\\pi \\alpha$ soit\n",
    "$\\alpha = \\frac{ab}{2\\pi n^2}$\n",
    "\n",
    "$$ F(x_k) = e^{i\\frac{a}{2}(-\\frac{b}{2} + k \\frac{b}{n})}\\frac{a}{n} G_k\\left(\\left( f(-\\frac{a}{2} + j \\frac{a}{n})e^{i j \\frac{ab}{2n}}\\right)_{0 \\le j < n}, \\alpha\\right) $$ "
   ]
  },
  {
   "cell_type": "code",
   "execution_count": 11,
   "id": "983ead0a",
   "metadata": {},
   "outputs": [],
   "source": [
    "def cft(f, a, b, n):\n",
    "    result = np.zeros(n, dtype=complex)\n",
    "    for k in range(n):\n",
    "        for j in range(n):\n",
    "            tj = -a/2 + j*a/n\n",
    "            xk = -b/2 + k*b/n\n",
    "            result[k] += a/n*f(tj)*np.exp(-1j*tj*xk)\n",
    "    return result\n",
    "\n",
    "def cfft(f, a, b, n):\n",
    "    f_vect = np.vectorize(f)\n",
    "    \n",
    "    k = np.arange(n)\n",
    "    xk = -b/2 + (b/n)*k\n",
    "    tk = -a/2 + (a/n)*k\n",
    "    \n",
    "    prefactor = (a/n) * np.exp(1j*(a/2)*xk)\n",
    "    y = f_vect(tk) * np.exp(1j*a*b/(2*n)*k)\n",
    "    alpha = a*b / (2*np.pi*n*n)\n",
    "    \n",
    "    return prefactor * frac_fft(y, alpha)"
   ]
  },
  {
   "cell_type": "code",
   "execution_count": 12,
   "id": "dda23c79",
   "metadata": {},
   "outputs": [
    {
     "name": "stdout",
     "output_type": "stream",
     "text": [
      "Error :  5.751925482141584e-07\n",
      "Error :  3.3444487910564823e-15\n"
     ]
    },
    {
     "data": {
      "image/png": "[encoded data removed]",
      "text/plain": [
       "<Figure size 432x288 with 1 Axes>"
      ]
     },
     "metadata": {
      "needs_background": "light"
     },
     "output_type": "display_data"
    }
   ],
   "source": [
    "f = lambda x: np.exp(-x*x/2)\n",
    "a = 10\n",
    "b = 10\n",
    "n = 256\n",
    "\n",
    "tk = -a/2 + (a/n)*np.arange(n)\n",
    "xk = -b/2 + (b/n)*np.arange(n)\n",
    "\n",
    "error(cft(f, a, b, n), np.sqrt(2*np.pi)*f(xk)) # Simpson would be better\n",
    "error(cfft(f, a, b, n), cft(f, a, b, n))\n",
    "\n",
    "plt.plot(tk, f(tk))\n",
    "plt.plot(xk, cft(f, a, b, n).real)\n",
    "plt.plot(xk, cfft(f, a, b, n).real)\n",
    "plt.show()"
   ]
  }
 ],
 "metadata": {
  "kernelspec": {
   "display_name": "Python 3 (ipykernel)",
   "language": "python",
   "name": "python3"
  },
  "language_info": {
   "codemirror_mode": {
    "name": "ipython",
    "version": 3
   },
   "file_extension": ".py",
   "mimetype": "text/x-python",
   "name": "python",
   "nbconvert_exporter": "python",
   "pygments_lexer": "ipython3",
   "version": "3.10.2"
  }
 },
 "nbformat": 4,
 "nbformat_minor": 5
}
